{
  "nbformat": 4,
  "nbformat_minor": 0,
  "metadata": {
    "kernelspec": {
      "display_name": "Python 3",
      "language": "python",
      "name": "python3"
    },
    "language_info": {
      "codemirror_mode": {
        "name": "ipython",
        "version": 3
      },
      "file_extension": ".py",
      "mimetype": "text/x-python",
      "name": "python",
      "nbconvert_exporter": "python",
      "pygments_lexer": "ipython3",
      "version": "3.7.3"
    },
    "colab": {
      "name": "SeleniumPolis2.0.ipynb",
      "provenance": [],
      "include_colab_link": true
    }
  },
  "cells": [
    {
      "cell_type": "markdown",
      "metadata": {
        "id": "view-in-github",
        "colab_type": "text"
      },
      "source": [
        "<a href=\"https://colab.research.google.com/github/Ancipes/Web-Scraping/blob/master/SeleniumPolis2_0.ipynb\" target=\"_parent\"><img src=\"https://colab.research.google.com/assets/colab-badge.svg\" alt=\"Open In Colab\"/></a>"
      ]
    },
    {
      "cell_type": "code",
      "metadata": {
        "id": "ZRknkJZBlHu0",
        "colab_type": "code",
        "colab": {},
        "outputId": "0462343d-0cdc-44c2-a8de-4eff411fbac3"
      },
      "source": [
        "#Run only once. Delete or comment it out after installation is complete\n",
        "!pip install selenium"
      ],
      "execution_count": 0,
      "outputs": [
        {
          "output_type": "stream",
          "text": [
            "Requirement already satisfied: selenium in c:\\users\\saket\\appdata\\local\\continuum\\anaconda3\\lib\\site-packages (3.141.0)\n",
            "Requirement already satisfied: urllib3 in c:\\users\\saket\\appdata\\local\\continuum\\anaconda3\\lib\\site-packages (from selenium) (1.24.1)\n"
          ],
          "name": "stdout"
        }
      ]
    },
    {
      "cell_type": "code",
      "metadata": {
        "id": "ISESQOXQlHu8",
        "colab_type": "code",
        "colab": {}
      },
      "source": [
        "from selenium import webdriver\n",
        "import time\n",
        "from selenium.webdriver.support.ui import Select"
      ],
      "execution_count": 0,
      "outputs": []
    },
    {
      "cell_type": "code",
      "metadata": {
        "id": "YGTkQ_wElHvA",
        "colab_type": "code",
        "colab": {},
        "outputId": "a4d039d3-b400-4b6a-d528-97f8c81793f7"
      },
      "source": [
        "import os\n",
        "cwd = os.getcwd()\n",
        "print(cwd)"
      ],
      "execution_count": 0,
      "outputs": [
        {
          "output_type": "stream",
          "text": [
            "C:\\Users\\saket\n"
          ],
          "name": "stdout"
        }
      ]
    },
    {
      "cell_type": "code",
      "metadata": {
        "id": "KlALlaHzlHvF",
        "colab_type": "code",
        "colab": {}
      },
      "source": [
        "chromeOptions = webdriver.ChromeOptions()\n",
        "prefs = {\"download.default_directory\" : \"C:/Users/saket/Downloads/Selenium_Polis_Center\"}\n",
        "chromeOptions.add_experimental_option(\"prefs\",prefs)"
      ],
      "execution_count": 0,
      "outputs": []
    },
    {
      "cell_type": "code",
      "metadata": {
        "id": "fkrEKkNWlHvJ",
        "colab_type": "code",
        "colab": {},
        "outputId": "c54c006f-c927-4e60-ff49-d1fa89d74fc4"
      },
      "source": [
        "#Variant 1\n",
        "driver= webdriver.Chrome(executable_path=\"C:\\Program Files (x86)\\Chrome_win\\chromedriver.exe\")#Change the path based on where you have the driver installed.\n",
        "driver.get(\"https://data.cms.gov/mapping-medicare-disparities\")\n",
        "try:\n",
        "    driver.find_element_by_xpath(\"/html/body/div[1]/button/span[1]\").click()\n",
        "except:\n",
        "    pass\n",
        "for i in range(2,8,1):\n",
        "    element_year=driver.find_element_by_id(\"year\")\n",
        "    drp_year=Select(element_year)\n",
        "    drp_year.select_by_value(str(i))\n",
        "    time.sleep(2)\n",
        "    element_county=driver.find_element_by_id(\"geography\")\n",
        "    drp_geo=Select(element_county)\n",
        "    drp_geo.select_by_value('c')\n",
        "    time.sleep(2)\n",
        "    a=0\n",
        "    for z in [\"m\",\"v\"]:\n",
        "        if z==\"m\":\n",
        "            element_measure=driver.find_element_by_id(\"measure\")\n",
        "            drp_mea=Select(element_measure)\n",
        "            drp_mea.select_by_value(\"m\")\n",
        "            time.sleep(2)\n",
        "            element_adj=driver.find_element_by_id(\"adjust\")\n",
        "            drp_adj=Select(element_adj)\n",
        "            drp_adj.select_by_value('2')\n",
        "            time.sleep(2)\n",
        "            element_bm=driver.find_element_by_id(\"analysis\")\n",
        "            drp_bm=Select(element_bm)\n",
        "            drp_bm.select_by_value('base')\n",
        "            for j in [2,16]:\n",
        "                element_cond=driver.find_element_by_id(\"condition\")\n",
        "                drp_cond=Select(element_cond)\n",
        "                drp_cond.select_by_value(str(j))\n",
        "                time.sleep(2)\n",
        "                for k in [\"null\",0,1,2,3]:\n",
        "                    element_age=driver.find_element_by_id(\"age_group\")\n",
        "                    drp_age=Select(element_age)\n",
        "                    drp_age.select_by_value(str(k))\n",
        "                    time.sleep(2)\n",
        "                    for l in [\"null\",1,2,5]:\n",
        "                        element_race=driver.find_element_by_id(\"race_code\")\n",
        "                        drp_race=Select(element_race)\n",
        "                        drp_race.select_by_value(str(l))\n",
        "                        time.sleep(2)\n",
        "                        driver.find_element_by_xpath(\"//*[@id='data_download']\").click()\n",
        "        elif z==\"v\":\n",
        "            element_measure=driver.find_element_by_id(\"measure\")\n",
        "            drp_mea=Select(element_measure)\n",
        "            drp_mea.select_by_value(\"v\")\n",
        "            time.sleep(2)            \n",
        "            element_adj=driver.find_element_by_id(\"adjust\")\n",
        "            drp_adj=Select(element_adj)\n",
        "            drp_adj.select_by_value('2')\n",
        "            time.sleep(2)\n",
        "            element_bm=driver.find_element_by_id(\"analysis\")\n",
        "            drp_bm=Select(element_bm)\n",
        "            drp_bm.select_by_value('base')\n",
        "            for q in [\"d1\",\"d2\"]:\n",
        "                if q==\"d1\":\n",
        "                    element_domain=driver.find_element_by_id(\"domain\")\n",
        "                    drp_domain=Select(element_domain)\n",
        "                    drp_domain.select_by_value(q)\n",
        "                    for w in [2,1,4,11,5,79,78,80,81,12,13,14,15,24,25,16,18,17,19,20,21,3,22,23,6,7,8,9]:\n",
        "                        element_ser=driver.find_element_by_id(\"condition\")\n",
        "                        drp_ser=Select(element_ser)\n",
        "                        drp_ser.select_by_value(str(w))\n",
        "                        for k in [\"null\",0,1,2,3]:\n",
        "                            element_age=driver.find_element_by_id(\"age_group\")\n",
        "                            drp_age=Select(element_age)\n",
        "                            drp_age.select_by_value(str(k))\n",
        "                            time.sleep(2)\n",
        "                            for l in [\"null\",1,2,5]:\n",
        "                                element_race=driver.find_element_by_id(\"race_code\")\n",
        "                                drp_race=Select(element_race)\n",
        "                                drp_race.select_by_value(str(l))\n",
        "                                time.sleep(2)\n",
        "                                driver.find_element_by_xpath(\"//*[@id='data_download']\").click()\n",
        "                elif q==\"d2\":\n",
        "                    element_domain=driver.find_element_by_id(\"domain\")\n",
        "                    drp_domain=Select(element_domain)\n",
        "                    drp_domain.select_by_value(q)\n",
        "                    for w in [72,42,44,47,48,55,56,73,58,53,74,43,45,49,64,65,41,69,109,110,111,112,75,51,60,61,62,76,50,59,67,68,46,77,54,57,66,70,71,72,52,63]:\n",
        "                        element_ser=driver.find_element_by_id(\"condition\")\n",
        "                        drp_ser=Select(element_ser)\n",
        "                        drp_ser.select_by_value(str(w))\n",
        "                        for k in [\"null\",0,1,2,3]:\n",
        "                            element_age=driver.find_element_by_id(\"age_group\")\n",
        "                            drp_age=Select(element_age)\n",
        "                            drp_age.select_by_value(str(k))\n",
        "                            time.sleep(2)\n",
        "                            for l in [\"null\",1,2,5]:\n",
        "                                element_race=driver.find_element_by_id(\"race_code\")\n",
        "                                drp_race=Select(element_race)\n",
        "                                drp_race.select_by_value(str(l))\n",
        "                                time.sleep(2)\n",
        "                                driver.find_element_by_xpath(\"//*[@id='data_download']\").click()\n",
        "driver.close()"
      ],
      "execution_count": 0,
      "outputs": [
        {
          "output_type": "error",
          "ename": "WebDriverException",
          "evalue": "Message: chrome not reachable\n  (Session info: chrome=77.0.3865.120)\n",
          "traceback": [
            "\u001b[1;31m---------------------------------------------------------------------------\u001b[0m",
            "\u001b[1;31mWebDriverException\u001b[0m                        Traceback (most recent call last)",
            "\u001b[1;32m<ipython-input-17-c335862773a0>\u001b[0m in \u001b[0;36m<module>\u001b[1;34m\u001b[0m\n\u001b[0;32m     43\u001b[0m                         \u001b[0mdrp_race\u001b[0m\u001b[1;33m.\u001b[0m\u001b[0mselect_by_value\u001b[0m\u001b[1;33m(\u001b[0m\u001b[0mstr\u001b[0m\u001b[1;33m(\u001b[0m\u001b[0ml\u001b[0m\u001b[1;33m)\u001b[0m\u001b[1;33m)\u001b[0m\u001b[1;33m\u001b[0m\u001b[1;33m\u001b[0m\u001b[0m\n\u001b[0;32m     44\u001b[0m                         \u001b[0mtime\u001b[0m\u001b[1;33m.\u001b[0m\u001b[0msleep\u001b[0m\u001b[1;33m(\u001b[0m\u001b[1;36m2\u001b[0m\u001b[1;33m)\u001b[0m\u001b[1;33m\u001b[0m\u001b[1;33m\u001b[0m\u001b[0m\n\u001b[1;32m---> 45\u001b[1;33m                         \u001b[0mdriver\u001b[0m\u001b[1;33m.\u001b[0m\u001b[0mfind_element_by_xpath\u001b[0m\u001b[1;33m(\u001b[0m\u001b[1;34m\"//*[@id='data_download']\"\u001b[0m\u001b[1;33m)\u001b[0m\u001b[1;33m.\u001b[0m\u001b[0mclick\u001b[0m\u001b[1;33m(\u001b[0m\u001b[1;33m)\u001b[0m\u001b[1;33m\u001b[0m\u001b[1;33m\u001b[0m\u001b[0m\n\u001b[0m\u001b[0;32m     46\u001b[0m         \u001b[1;32melif\u001b[0m \u001b[0mz\u001b[0m\u001b[1;33m==\u001b[0m\u001b[1;34m\"v\"\u001b[0m\u001b[1;33m:\u001b[0m\u001b[1;33m\u001b[0m\u001b[1;33m\u001b[0m\u001b[0m\n\u001b[0;32m     47\u001b[0m             \u001b[0melement_measure\u001b[0m\u001b[1;33m=\u001b[0m\u001b[0mdriver\u001b[0m\u001b[1;33m.\u001b[0m\u001b[0mfind_element_by_id\u001b[0m\u001b[1;33m(\u001b[0m\u001b[1;34m\"measure\"\u001b[0m\u001b[1;33m)\u001b[0m\u001b[1;33m\u001b[0m\u001b[1;33m\u001b[0m\u001b[0m\n",
            "\u001b[1;32m~\\AppData\\Local\\Continuum\\anaconda3\\lib\\site-packages\\selenium\\webdriver\\remote\\webdriver.py\u001b[0m in \u001b[0;36mfind_element_by_xpath\u001b[1;34m(self, xpath)\u001b[0m\n\u001b[0;32m    392\u001b[0m             \u001b[0melement\u001b[0m \u001b[1;33m=\u001b[0m \u001b[0mdriver\u001b[0m\u001b[1;33m.\u001b[0m\u001b[0mfind_element_by_xpath\u001b[0m\u001b[1;33m(\u001b[0m\u001b[1;34m'//div/td[1]'\u001b[0m\u001b[1;33m)\u001b[0m\u001b[1;33m\u001b[0m\u001b[1;33m\u001b[0m\u001b[0m\n\u001b[0;32m    393\u001b[0m         \"\"\"\n\u001b[1;32m--> 394\u001b[1;33m         \u001b[1;32mreturn\u001b[0m \u001b[0mself\u001b[0m\u001b[1;33m.\u001b[0m\u001b[0mfind_element\u001b[0m\u001b[1;33m(\u001b[0m\u001b[0mby\u001b[0m\u001b[1;33m=\u001b[0m\u001b[0mBy\u001b[0m\u001b[1;33m.\u001b[0m\u001b[0mXPATH\u001b[0m\u001b[1;33m,\u001b[0m \u001b[0mvalue\u001b[0m\u001b[1;33m=\u001b[0m\u001b[0mxpath\u001b[0m\u001b[1;33m)\u001b[0m\u001b[1;33m\u001b[0m\u001b[1;33m\u001b[0m\u001b[0m\n\u001b[0m\u001b[0;32m    395\u001b[0m \u001b[1;33m\u001b[0m\u001b[0m\n\u001b[0;32m    396\u001b[0m     \u001b[1;32mdef\u001b[0m \u001b[0mfind_elements_by_xpath\u001b[0m\u001b[1;33m(\u001b[0m\u001b[0mself\u001b[0m\u001b[1;33m,\u001b[0m \u001b[0mxpath\u001b[0m\u001b[1;33m)\u001b[0m\u001b[1;33m:\u001b[0m\u001b[1;33m\u001b[0m\u001b[1;33m\u001b[0m\u001b[0m\n",
            "\u001b[1;32m~\\AppData\\Local\\Continuum\\anaconda3\\lib\\site-packages\\selenium\\webdriver\\remote\\webdriver.py\u001b[0m in \u001b[0;36mfind_element\u001b[1;34m(self, by, value)\u001b[0m\n\u001b[0;32m    976\u001b[0m         return self.execute(Command.FIND_ELEMENT, {\n\u001b[0;32m    977\u001b[0m             \u001b[1;34m'using'\u001b[0m\u001b[1;33m:\u001b[0m \u001b[0mby\u001b[0m\u001b[1;33m,\u001b[0m\u001b[1;33m\u001b[0m\u001b[1;33m\u001b[0m\u001b[0m\n\u001b[1;32m--> 978\u001b[1;33m             'value': value})['value']\n\u001b[0m\u001b[0;32m    979\u001b[0m \u001b[1;33m\u001b[0m\u001b[0m\n\u001b[0;32m    980\u001b[0m     \u001b[1;32mdef\u001b[0m \u001b[0mfind_elements\u001b[0m\u001b[1;33m(\u001b[0m\u001b[0mself\u001b[0m\u001b[1;33m,\u001b[0m \u001b[0mby\u001b[0m\u001b[1;33m=\u001b[0m\u001b[0mBy\u001b[0m\u001b[1;33m.\u001b[0m\u001b[0mID\u001b[0m\u001b[1;33m,\u001b[0m \u001b[0mvalue\u001b[0m\u001b[1;33m=\u001b[0m\u001b[1;32mNone\u001b[0m\u001b[1;33m)\u001b[0m\u001b[1;33m:\u001b[0m\u001b[1;33m\u001b[0m\u001b[1;33m\u001b[0m\u001b[0m\n",
            "\u001b[1;32m~\\AppData\\Local\\Continuum\\anaconda3\\lib\\site-packages\\selenium\\webdriver\\remote\\webdriver.py\u001b[0m in \u001b[0;36mexecute\u001b[1;34m(self, driver_command, params)\u001b[0m\n\u001b[0;32m    319\u001b[0m         \u001b[0mresponse\u001b[0m \u001b[1;33m=\u001b[0m \u001b[0mself\u001b[0m\u001b[1;33m.\u001b[0m\u001b[0mcommand_executor\u001b[0m\u001b[1;33m.\u001b[0m\u001b[0mexecute\u001b[0m\u001b[1;33m(\u001b[0m\u001b[0mdriver_command\u001b[0m\u001b[1;33m,\u001b[0m \u001b[0mparams\u001b[0m\u001b[1;33m)\u001b[0m\u001b[1;33m\u001b[0m\u001b[1;33m\u001b[0m\u001b[0m\n\u001b[0;32m    320\u001b[0m         \u001b[1;32mif\u001b[0m \u001b[0mresponse\u001b[0m\u001b[1;33m:\u001b[0m\u001b[1;33m\u001b[0m\u001b[1;33m\u001b[0m\u001b[0m\n\u001b[1;32m--> 321\u001b[1;33m             \u001b[0mself\u001b[0m\u001b[1;33m.\u001b[0m\u001b[0merror_handler\u001b[0m\u001b[1;33m.\u001b[0m\u001b[0mcheck_response\u001b[0m\u001b[1;33m(\u001b[0m\u001b[0mresponse\u001b[0m\u001b[1;33m)\u001b[0m\u001b[1;33m\u001b[0m\u001b[1;33m\u001b[0m\u001b[0m\n\u001b[0m\u001b[0;32m    322\u001b[0m             response['value'] = self._unwrap_value(\n\u001b[0;32m    323\u001b[0m                 response.get('value', None))\n",
            "\u001b[1;32m~\\AppData\\Local\\Continuum\\anaconda3\\lib\\site-packages\\selenium\\webdriver\\remote\\errorhandler.py\u001b[0m in \u001b[0;36mcheck_response\u001b[1;34m(self, response)\u001b[0m\n\u001b[0;32m    240\u001b[0m                 \u001b[0malert_text\u001b[0m \u001b[1;33m=\u001b[0m \u001b[0mvalue\u001b[0m\u001b[1;33m[\u001b[0m\u001b[1;34m'alert'\u001b[0m\u001b[1;33m]\u001b[0m\u001b[1;33m.\u001b[0m\u001b[0mget\u001b[0m\u001b[1;33m(\u001b[0m\u001b[1;34m'text'\u001b[0m\u001b[1;33m)\u001b[0m\u001b[1;33m\u001b[0m\u001b[1;33m\u001b[0m\u001b[0m\n\u001b[0;32m    241\u001b[0m             \u001b[1;32mraise\u001b[0m \u001b[0mexception_class\u001b[0m\u001b[1;33m(\u001b[0m\u001b[0mmessage\u001b[0m\u001b[1;33m,\u001b[0m \u001b[0mscreen\u001b[0m\u001b[1;33m,\u001b[0m \u001b[0mstacktrace\u001b[0m\u001b[1;33m,\u001b[0m \u001b[0malert_text\u001b[0m\u001b[1;33m)\u001b[0m\u001b[1;33m\u001b[0m\u001b[1;33m\u001b[0m\u001b[0m\n\u001b[1;32m--> 242\u001b[1;33m         \u001b[1;32mraise\u001b[0m \u001b[0mexception_class\u001b[0m\u001b[1;33m(\u001b[0m\u001b[0mmessage\u001b[0m\u001b[1;33m,\u001b[0m \u001b[0mscreen\u001b[0m\u001b[1;33m,\u001b[0m \u001b[0mstacktrace\u001b[0m\u001b[1;33m)\u001b[0m\u001b[1;33m\u001b[0m\u001b[1;33m\u001b[0m\u001b[0m\n\u001b[0m\u001b[0;32m    243\u001b[0m \u001b[1;33m\u001b[0m\u001b[0m\n\u001b[0;32m    244\u001b[0m     \u001b[1;32mdef\u001b[0m \u001b[0m_value_or_default\u001b[0m\u001b[1;33m(\u001b[0m\u001b[0mself\u001b[0m\u001b[1;33m,\u001b[0m \u001b[0mobj\u001b[0m\u001b[1;33m,\u001b[0m \u001b[0mkey\u001b[0m\u001b[1;33m,\u001b[0m \u001b[0mdefault\u001b[0m\u001b[1;33m)\u001b[0m\u001b[1;33m:\u001b[0m\u001b[1;33m\u001b[0m\u001b[1;33m\u001b[0m\u001b[0m\n",
            "\u001b[1;31mWebDriverException\u001b[0m: Message: chrome not reachable\n  (Session info: chrome=77.0.3865.120)\n"
          ]
        }
      ]
    },
    {
      "cell_type": "code",
      "metadata": {
        "id": "WxODyoFflHvM",
        "colab_type": "code",
        "colab": {}
      },
      "source": [
        "#Variant 2\n",
        "driver= webdriver.Chrome(executable_path=\"C:\\Program Files (x86)\\Chrome_win\\chromedriver.exe\")#Change the path based on where you have the driver installed.\n",
        "driver.get(\"https://data.cms.gov/mapping-medicare-disparities\")\n",
        "try:\n",
        "    driver.find_element_by_xpath(\"/html/body/div[1]/button/span[1]\").click()\n",
        "except:\n",
        "    pass\n",
        "for i in range(2,8,1):\n",
        "    element_year=driver.find_element_by_id(\"year\")\n",
        "    drp_year=Select(element_year)\n",
        "    drp_year.select_by_value(str(i))\n",
        "    time.sleep(2)\n",
        "    element_county=driver.find_element_by_id(\"geography\")\n",
        "    drp_geo=Select(element_county)\n",
        "    drp_geo.select_by_value('c')\n",
        "    time.sleep(2)\n",
        "    a=0\n",
        "    for z in [\"m\",\"v\",\"c\"]:\n",
        "        if z==\"m\":\n",
        "            element_measure=driver.find_element_by_id(\"measure\")\n",
        "            drp_mea=Select(element_measure)\n",
        "            drp_mea.select_by_value(\"m\")\n",
        "            time.sleep(2)\n",
        "            element_adj=driver.find_element_by_id(\"adjust\")\n",
        "            drp_adj=Select(element_adj)\n",
        "            drp_adj.select_by_value('2')\n",
        "            time.sleep(2)\n",
        "            element_bm=driver.find_element_by_id(\"analysis\")\n",
        "            drp_bm=Select(element_bm)\n",
        "            drp_bm.select_by_value('base')\n",
        "            for j in [2,16]:\n",
        "                element_cond=driver.find_element_by_id(\"condition\")\n",
        "                drp_cond=Select(element_cond)\n",
        "                drp_cond.select_by_value(str(j))\n",
        "                time.sleep(2)\n",
        "                for k in [\"null\",0,1,2,3]:\n",
        "                    element_age=driver.find_element_by_id(\"age_group\")\n",
        "                    drp_age=Select(element_age)\n",
        "                    drp_age.select_by_value(str(k))\n",
        "                    time.sleep(2)\n",
        "                    for l in [\"null\",1,2,5]:\n",
        "                        element_race=driver.find_element_by_id(\"race_code\")\n",
        "                        drp_race=Select(element_race)\n",
        "                        drp_race.select_by_value(str(l))\n",
        "                        time.sleep(2)\n",
        "                        driver.find_element_by_xpath(\"//*[@id='data_download']\").click()\n",
        "        elif z==\"v\":\n",
        "            element_measure=driver.find_element_by_id(\"measure\")\n",
        "            drp_mea=Select(element_measure)\n",
        "            drp_mea.select_by_value(\"v\")\n",
        "            time.sleep(2)            \n",
        "            element_adj=driver.find_element_by_id(\"adjust\")\n",
        "            drp_adj=Select(element_adj)\n",
        "            drp_adj.select_by_value('2')\n",
        "            time.sleep(2)\n",
        "            element_bm=driver.find_element_by_id(\"analysis\")\n",
        "            drp_bm=Select(element_bm)\n",
        "            drp_bm.select_by_value('base')\n",
        "            for q in [\"d1\",\"d2\"]:\n",
        "                if q==\"d1\":\n",
        "                    element_domain=driver.find_element_by_id(\"domain\")\n",
        "                    drp_domain=Select(element_domain)\n",
        "                    drp_domain.select_by_value(q)\n",
        "                    for w in [1,43,78,14,15,24,16,17,20]:\n",
        "                        element_ser=driver.find_element_by_id(\"condition\")\n",
        "                        drp_ser=Select(element_ser)\n",
        "                        drp_ser.select_by_value(str(w))\n",
        "                        for k in [\"null\",0,1,2,3]:\n",
        "                            element_age=driver.find_element_by_id(\"age_group\")\n",
        "                            drp_age=Select(element_age)\n",
        "                            drp_age.select_by_value(str(k))\n",
        "                            time.sleep(2)\n",
        "                            for l in [\"null\",1,2,5]:\n",
        "                                element_race=driver.find_element_by_id(\"race_code\")\n",
        "                                drp_race=Select(element_race)\n",
        "                                drp_race.select_by_value(str(l))\n",
        "                                time.sleep(2)\n",
        "                                driver.find_element_by_xpath(\"//*[@id='data_download']\").click()\n",
        "                elif q==\"d2\":\n",
        "                    element_domain=driver.find_element_by_id(\"domain\")\n",
        "                    drp_domain=Select(element_domain)\n",
        "                    drp_domain.select_by_value(q)\n",
        "                    for w in [51,57,60,110,69]:\n",
        "                        element_ser=driver.find_element_by_id(\"condition\")\n",
        "                        drp_ser=Select(element_ser)\n",
        "                        drp_ser.select_by_value(str(w))\n",
        "                        for k in [\"null\",0,1,2,3]:\n",
        "                            element_age=driver.find_element_by_id(\"age_group\")\n",
        "                            drp_age=Select(element_age)\n",
        "                            drp_age.select_by_value(str(k))\n",
        "                            time.sleep(2)\n",
        "                            for l in [\"null\",1,2,5]:\n",
        "                                element_race=driver.find_element_by_id(\"race_code\")\n",
        "                                drp_race=Select(element_race)\n",
        "                                drp_race.select_by_value(str(l))\n",
        "                                time.sleep(2)\n",
        "                                driver.find_element_by_xpath(\"//*[@id='data_download']\").click()\n",
        "        elif z==\"c\":\n",
        "            element_measure=driver.find_element_by_id(\"measure\")\n",
        "            drp_mea=Select(element_measure)\n",
        "            drp_mea.select_by_value(\"v\")\n",
        "            time.sleep(2)            \n",
        "            element_adj=driver.find_element_by_id(\"adjust\")\n",
        "            drp_adj=Select(element_adj)\n",
        "            drp_adj.select_by_value('2')\n",
        "            time.sleep(2)\n",
        "            element_bm=driver.find_element_by_id(\"analysis\")\n",
        "            drp_bm=Select(element_bm)\n",
        "            drp_bm.select_by_value('base')\n",
        "            for j in [82,83,86,89,95,102,103]:\n",
        "                element_ser=driver.find_element_by_id(\"condition\")\n",
        "                drp_ser=Select(element_ser)\n",
        "                drp_ser.select_by_value(str(j))\n",
        "                for k in [\"null\",0,1,2,3]:\n",
        "                    element_age=driver.find_element_by_id(\"age_group\")\n",
        "                    drp_age=Select(element_age)\n",
        "                    drp_age.select_by_value(str(k))\n",
        "                    time.sleep(2)\n",
        "                    for l in [\"null\",1,2,5]:\n",
        "                        element_race=driver.find_element_by_id(\"race_code\")\n",
        "                        drp_race=Select(element_race)\n",
        "                        drp_race.select_by_value(str(l))\n",
        "                        time.sleep(2)\n",
        "                        driver.find_element_by_xpath(\"//*[@id='data_download']\").click()\n",
        "\n",
        "print(\"Sanity Check, Is year 2017?\",i)            \n",
        "driver.close()"
      ],
      "execution_count": 0,
      "outputs": []
    },
    {
      "cell_type": "code",
      "metadata": {
        "id": "LTrdX0gZlHvQ",
        "colab_type": "code",
        "colab": {},
        "outputId": "565fda4c-9172-4a81-de9b-da732a478326"
      },
      "source": [
        "for i in [1,2,3]:\n",
        "    print(\"Executing\",i)\n",
        "print(\"done\",i)"
      ],
      "execution_count": 0,
      "outputs": [
        {
          "output_type": "stream",
          "text": [
            "Executing 1\n",
            "Executing 2\n",
            "Executing 3\n",
            "done 3\n"
          ],
          "name": "stdout"
        }
      ]
    },
    {
      "cell_type": "code",
      "metadata": {
        "id": "POPp-Ls5lHvV",
        "colab_type": "code",
        "colab": {}
      },
      "source": [
        ""
      ],
      "execution_count": 0,
      "outputs": []
    },
    {
      "cell_type": "code",
      "metadata": {
        "id": "-CjiLiPPlHvY",
        "colab_type": "code",
        "colab": {}
      },
      "source": [
        ""
      ],
      "execution_count": 0,
      "outputs": []
    }
  ]
}